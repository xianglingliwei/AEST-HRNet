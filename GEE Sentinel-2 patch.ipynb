{
 "cells": [
  {
   "cell_type": "code",
   "execution_count": 1,
   "metadata": {},
   "outputs": [],
   "source": [
    "import os\n",
    "import xlwt\n",
    "import xlrd\n",
    "import sys\n",
    "import numpy as np"
   ]
  },
  {
   "cell_type": "code",
   "execution_count": 2,
   "metadata": {},
   "outputs": [
    {
     "data": {
      "text/html": [
       "<p>To authorize access needed by Earth Engine, open the following\n",
       "        URL in a web browser and follow the instructions:</p>\n",
       "        <p><a href=https://code.earthengine.google.com/client-auth?scopes=https%3A//www.googleapis.com/auth/earthengine%20https%3A//www.googleapis.com/auth/devstorage.full_control&request_id=ZAVmGdhMUbvvl0yXWHSXYOW50vyAqx3uxsPEmhrGxjQ&tc=w1bn4h_7ILyOkKMIzW-H3Xf0YsTqDaXtGMhbNqKNCG4&cc=6cBDJvr-2xXnEdTbwWISqwwxdbovz2F4kw9c506VNHA>https://code.earthengine.google.com/client-auth?scopes=https%3A//www.googleapis.com/auth/earthengine%20https%3A//www.googleapis.com/auth/devstorage.full_control&request_id=ZAVmGdhMUbvvl0yXWHSXYOW50vyAqx3uxsPEmhrGxjQ&tc=w1bn4h_7ILyOkKMIzW-H3Xf0YsTqDaXtGMhbNqKNCG4&cc=6cBDJvr-2xXnEdTbwWISqwwxdbovz2F4kw9c506VNHA</a></p>\n",
       "        <p>The authorization workflow will generate a code, which you should paste in the box below.</p>\n",
       "        "
      ],
      "text/plain": [
       "<IPython.core.display.HTML object>"
      ]
     },
     "metadata": {},
     "output_type": "display_data"
    },
    {
     "name": "stdout",
     "output_type": "stream",
     "text": [
      "Enter verification code: 4/1AbUR2VPcuIT5Chy-VkXnyqqa_xIaKXINJYjv783TZ91kGlmYXAP5G04cLFM\n",
      "\n",
      "Successfully saved authorization token.\n"
     ]
    }
   ],
   "source": [
    "os.environ['HTTP_PROXY'] = 'http://127.0.0.1:7890'  \n",
    "os.environ['HTTPS_PROXY'] = 'https://127.0.0.1:7890'\n",
    "\n",
    "import ee\n",
    "ee.Authenticate()\n",
    "ee.Initialize()"
   ]
  },
  {
   "cell_type": "code",
   "execution_count": 3,
   "metadata": {},
   "outputs": [],
   "source": [
    "def GetBounds(point,radius,proj):\n",
    "    radius=radius-5\n",
    "#     X=ee.Number(point.transform(\"EPSG:32611\",0.5).coordinates().get(0))\n",
    "    X=ee.Number(point.coordinates().get(0))\n",
    "#     print('X',X)\n",
    "#     Y=ee.Number(point.transform(\"EPSG:32611\",0.5).coordinates().get(1))\n",
    "    Y=ee.Number(point.coordinates().get(1))\n",
    "#     print('Y',Y)\n",
    "    X_min=X.subtract(radius)  \n",
    "#     print('X_min=',X_min)\n",
    "    X_max=X.add(radius)\n",
    "#     print('X_max=',X_max)\n",
    "    Y_min=Y.subtract(radius)\n",
    "#     print('Y_min=',Y_min)\n",
    "    Y_max=Y.add(radius)\n",
    "#     print('Y_max=',Y_max)\n",
    "    Bound=ee.Geometry.Rectangle(coords=[X_min,Y_min,X_max,Y_max], proj=proj, geodesic=False, evenOdd=True)\n",
    "    return Bound\n",
    "\n",
    "def SetBounds(feature,width,resolution):\n",
    "    return feature.setGeometry(GetBounds(feature.geometry(),width/2*resolution)) "
   ]
  },
  {
   "cell_type": "code",
   "execution_count": 52,
   "metadata": {},
   "outputs": [],
   "source": [
    "\n",
    "# Wa\n",
    "# point_path = r\"D:\\study_Irrigation\\shp\\Wa_sample\\point_utm\\point_train.xls\"\n",
    "# point_path = r\"D:\\study_Irrigation\\shp\\Wa_sample\\point_utm\\point_val.xls\"\n",
    "# Ca\n",
    "point_path = r\"D:\\study_Irrigation\\shp\\Ca_sample\\point_utm\\point_train.xls\"\n",
    "# point_path = r\"D:\\study_Irrigation\\shp\\Ca_sample\\point_utm\\point_val.xls\"\n",
    "\n",
    "proj_point = \"EPSG:32611\"\n",
    "\n",
    "image_type = 'COPERNICUS/S2_HARMONIZED'\n",
    "\n",
    "resolution=10\n",
    "\n",
    "# state = \"Wa\"\n",
    "state = \"Ca\"\n",
    "\n",
    "month = 10\n",
    "\n",
    "# Wa\n",
    "# if month in [1,3,5,7,8]:   \n",
    "#     StartDate=ee.Date('2020-0{}-01'.format(month)); \n",
    "#     EndDate=ee.Date('2020-0{}-31'.format(month));  \n",
    "# elif month in [10,12]:   \n",
    "#     StartDate=ee.Date('2020-{}-01'.format(month));  \n",
    "#     EndDate=ee.Date('2020-{}-31'.format(month));  \n",
    "# elif month in [4,6,9]:   \n",
    "#     StartDate=ee.Date('2020-0{}-01'.format(month));\n",
    "#     EndDate=ee.Date('2020-0{}-30'.format(month));  \n",
    "# elif month in [11]:   \n",
    "#     StartDate=ee.Date('2020-{}-01'.format(month));\n",
    "#     EndDate=ee.Date('2020-{}-30'.format(month)); \n",
    "\n",
    "# Ca\n",
    "if month in [1,3,5,7,8]:   \n",
    "    StartDate=ee.Date('2019-0{}-01'.format(month)); \n",
    "    EndDate=ee.Date('2019-0{}-31'.format(month));  \n",
    "elif month in [10,12]:   \n",
    "    StartDate=ee.Date('2019-{}-01'.format(month));  \n",
    "    EndDate=ee.Date('2019-{}-31'.format(month));  \n",
    "elif month in [4,6,9]:   \n",
    "    StartDate=ee.Date('2019-0{}-01'.format(month));\n",
    "    EndDate=ee.Date('2019-0{}-30'.format(month));  \n",
    "elif month in [11]:   \n",
    "    StartDate=ee.Date('2019-{}-01'.format(month));\n",
    "    EndDate=ee.Date('2019-{}-30'.format(month)); \n",
    "\n",
    "cloud_percent = 20\n",
    "\n",
    "folder = \"{}_train_{}\".format(state,month)\n",
    "# folder = \"{}_val_{}\".format(state,month)\n",
    "\n",
    "scale = 10\n",
    "\n",
    "crs = \"EPSG:32611\""
   ]
  },
  {
   "cell_type": "code",
   "execution_count": 53,
   "metadata": {},
   "outputs": [
    {
     "name": "stdout",
     "output_type": "stream",
     "text": [
      "['name_id', 'size', 'geoX', 'geoY']\n",
      "[180.0, 256.0, 511333.9283844559, 3632659.3631517687]\n",
      "<class 'float'>\n",
      "207\n"
     ]
    }
   ],
   "source": [
    "\n",
    "data = xlrd.open_workbook(point_path) \n",
    "table = data.sheets()[0]   \n",
    "nrows = table.nrows  \n",
    "\n",
    "result=[]\n",
    "for i in range(nrows):   \n",
    "    if i == 0: \n",
    "        print(table.row_values(i))  \n",
    "        continue\n",
    "\n",
    "    result.append(table.row_values(i))\n",
    "    if i == 1: \n",
    "        print(table.row_values(i))  # [1.0, 768.0, 96187.54838725406, 5435212.05258369]\n",
    "        print(type(table.row_values(i)[0]))  \n",
    "\n",
    "size=int(np.size(result)/4);\n",
    "print(size)"
   ]
  },
  {
   "cell_type": "code",
   "execution_count": 54,
   "metadata": {
    "scrolled": true
   },
   "outputs": [
    {
     "name": "stdout",
     "output_type": "stream",
     "text": [
      "10月---------第199个--------id_199---------裁剪尺寸768\n",
      "10月---------第200个--------id_200---------裁剪尺寸768\n",
      "10月---------第201个--------id_201---------裁剪尺寸768\n",
      "10月---------第202个--------id_202---------裁剪尺寸768\n",
      "10月---------第203个--------id_203---------裁剪尺寸768\n",
      "10月---------第204个--------id_204---------裁剪尺寸512\n",
      "10月---------第205个--------id_205---------裁剪尺寸512\n",
      "10月---------第206个--------id_206---------裁剪尺寸512\n",
      "10月---------第207个--------id_207---------裁剪尺寸768\n"
     ]
    }
   ],
   "source": [
    "for i in range(0,size):\n",
    "    id = int(result[i][0])\n",
    "    if id not in [199,200,201,202,203,204,205,206,207]:  \n",
    "        continue  \n",
    "    if id < 10:\n",
    "        name_id = \"00\" + str(id) \n",
    "    elif 10 <= id < 100:\n",
    "        name_id = \"0\" + str(id)\n",
    "    else:\n",
    "        name_id = str(id)\n",
    "    width = int(result[i][1])\n",
    "    print(\"{0}月---------第{1}个--------id_{2}---------裁剪尺寸{3}\".format(month,i+1,name_id,width))\n",
    "    point_X = float(result[i][2])\n",
    "    point_Y = float(result[i][3])\n",
    "    point = ee.Geometry.Point([point_X,point_Y],proj=proj_point)\n",
    "\n",
    "    studyArea= GetBounds(point,width/2*resolution,proj_point)\n",
    "#     print('studyArea',studyArea)\n",
    "    S2 = ee.ImageCollection(image_type).filterBounds(studyArea).filterDate(StartDate,EndDate).filter(ee.Filter.lt('CLOUDY_PIXEL_PERCENTAGE', cloud_percent)).select(['B2','B3','B4','B8']).median();\n",
    "\n",
    "#     print(S2.size().getInfo());\n",
    "\n",
    "#     compImg_B2=S2.select(['B2']).reduce(ee.Reducer.percentile([25])).rename('blue');\n",
    "#     compImg_B3=S2.select(['B3']).reduce(ee.Reducer.percentile([25])).rename('green');\n",
    "#     compImg_B4=S2.select(['B4']).reduce(ee.Reducer.percentile([25])).rename('red');\n",
    "#     compImg_B8=S2.select(['B8']).reduce(ee.Reducer.percentile([25])).rename('nir');\n",
    "\n",
    "#     compImg=S2.clip(studyArea.transform(\"EPSG:32611\",0.1))\n",
    "    compImg=S2.clip(studyArea)\n",
    "\n",
    "    export = ee.batch.Export.image.toDrive(\n",
    "        image=compImg,\n",
    "        description=folder+\"_\"+name_id,\n",
    "        fileNamePrefix=folder+\"_\"+name_id,\n",
    "        folder=folder,\n",
    "        scale=scale,\n",
    "        region=studyArea,\n",
    "        maxPixels=1e13,\n",
    "        crs=crs)\n",
    "    export.start()"
   ]
  }
 ],
 "metadata": {
  "kernelspec": {
   "display_name": "Python 3 (ipykernel)",
   "language": "python",
   "name": "python3"
  },
  "language_info": {
   "codemirror_mode": {
    "name": "ipython",
    "version": 3
   },
   "file_extension": ".py",
   "mimetype": "text/x-python",
   "name": "python",
   "nbconvert_exporter": "python",
   "pygments_lexer": "ipython3",
   "version": "3.7.12"
  }
 },
 "nbformat": 4,
 "nbformat_minor": 2
}
